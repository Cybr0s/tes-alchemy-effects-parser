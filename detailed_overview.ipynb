{
 "cells": [
  {
   "cell_type": "markdown",
   "id": "2cd2375b-0d91-40c5-88a8-1d6ffc875371",
   "metadata": {},
   "source": [
    "# Alchemy Reagent Parser and Cleaner for The Elder Scrolls Universe\n",
    "A one-time-use tool designed by a TES universe role-play fan to unify and standardize alchemy reagent data across multiple Elder Scrolls games for enhanced role-playing experiences.\n"
   ]
  },
  {
   "cell_type": "markdown",
   "id": "c93f17f8-a27d-4fbb-a334-202a566a8815",
   "metadata": {},
   "source": [
    "## Introduction\n",
    "This project was created to enrich role-playing experience in The Elder Scrolls universe by managing the vast variety of alchemy reagents and their associated effects across different games of the series. The alchemy data for each game differs in terms of naming conventions, overlapping effects, and unique effects, making it difficult to standardize them for consistent use.\n",
    "\n",
    "This tool scrapes, parses, and cleans the alchemy data from the [Unofficial Elder Scrolls Wiki Pages](https://en.uesp.net/wiki/Main_Page) website, organizing it into a unified format to aid fellow role-players and allow better immersion in the game's alchemy system.\n",
    "\n",
    "- The tool uses Python and standard libraries like `re` (for regex) and `collections.OrderedDict` to maintain data integrity.\n",
    "- No external libraries required besides `requests` and `BeautifulSoup`."
   ]
  },
  {
   "cell_type": "markdown",
   "id": "c68063b8-e1af-4316-b558-028af0a95970",
   "metadata": {},
   "source": [
    "## The Problem\n",
    "\n",
    "In The Elder Scrolls games, different titles (e.g., *The Elder Scrolls Online*, *Oblivion*, *Skyrim*, etc.) use various terms for the same magical effects, making the same alchemical reagent in different games have effects with the same meaning but different names.\n",
    "\n",
    "For example, in *Daggerfall*, the effect `Heal Health` is used, whereas in *Skyrim*, it is called `Restore Health`. Some effects, on the contrary, have overlapping names, resulting in the need to remove doubles. These inconsistencies| made it hard to create a unified list for role-playing purposes."
   ]
  },
  {
   "cell_type": "markdown",
   "id": "f1f66f67-132b-47cc-a654-f6dc2d716106",
   "metadata": {},
   "source": [
    "## The Solution\n",
    "\n",
    "This project solved the problem by:\n",
    "\n",
    "1. Scraping the alchemy data from the [Unofficial Elder Scrolls Wiki Pages](https://en.uesp.net/wiki/Main_Page) website.\n",
    "2. Parsing the data to replace effect names in accordance with the naming convention (desinged beforehand).\n",
    "3. Cleaning and polishing the resulting dataset.\n",
    "\n",
    "By doing this, alchemy reagents and their effects are standardized across all the games, simplifying role-play and enhancing the immersive experience."
   ]
  },
  {
   "cell_type": "markdown",
   "id": "910203a5-7ed2-41fd-bf37-0b59c65843ab",
   "metadata": {},
   "source": [
    "## Example\n",
    "\n",
    "Here’s an example of the extracted, raw data.\n",
    "\n",
    "### Raw Data:\n",
    "```text\n",
    "Aloe Vera Leaves NAME\n",
    "    Heal Health\n",
    "    Heal Health\n",
    "    Restore Health\n",
    "    Restore Health\n",
    "    Restore Fatigue\n",
    "    Restore Health\n",
    "    Damage Magicka\n",
    "    Invisibility\n",
    "    Restore Health\n",
    "    Restore Stamina\n",
    "    Damage Magicka\n",
    "    Invisibility"
   ]
  },
  {
   "cell_type": "markdown",
   "id": "f9e2d7c9-6f5e-4e4a-a39a-f09164d4816d",
   "metadata": {},
   "source": [
    " And how it is eventually transformed by the script.\n",
    "\n",
    "### Clean Data:\n",
    "```text\n",
    "Aloe Vera Leaves\n",
    "    Health Restoration\n",
    "    Fatigue Restoration\n",
    "    Magicka Damage\n",
    "    Invisibility\n",
    "    Stamina Restoration"
   ]
  },
  {
   "cell_type": "markdown",
   "id": "995c415b-62b1-433d-8e83-bb4e32b50814",
   "metadata": {},
   "source": [
    "Notice how duplicate effects are removed and how effects with different names but similar meanings are unified into a single term for consistency."
   ]
  },
  {
   "cell_type": "markdown",
   "id": "9a4976c4-e3d3-48ad-906a-20d3e791e427",
   "metadata": {},
   "source": [
    "## Code Files"
   ]
  },
  {
   "cell_type": "markdown",
   "id": "6e01525d-bf55-4b0f-ad1d-69a7a10e0f3d",
   "metadata": {
    "jp-MarkdownHeadingCollapsed": true
   },
   "source": [
    "### 1. Scraping\n",
    "The first script scrapes alchemy reagent data from all the UESP webpages that contain Alchemy reagents. It extracts the reagent names and their associated effects, then outputs the raw, unmodified data to a file, which is later processed by the other scripts."
   ]
  },
  {
   "cell_type": "markdown",
   "id": "8d7834e5-70ae-4477-bf0a-5e62cd7a7872",
   "metadata": {
    "jp-MarkdownHeadingCollapsed": true
   },
   "source": [
    "#### alchemy_01_scraper.py"
   ]
  },
  {
   "cell_type": "code",
   "execution_count": null,
   "id": "26a0b89a-18e3-407d-b47c-261c4da251ff",
   "metadata": {},
   "outputs": [],
   "source": [
    "import re\n",
    "import urllib.request, urllib.parse, urllib.error\n",
    "from bs4 import BeautifulSoup\n",
    "import ssl\n",
    "\n",
    "# Ignore SSL certificate errors\n",
    "ctx = ssl.create_default_context()\n",
    "ctx.check_hostname = False\n",
    "ctx.verify_mode = ssl.CERT_NONE\n",
    "\n",
    "#url = input('Enter - ')\n",
    "# List of URLs to process\n",
    "urls = [\n",
    "    \"https://en.uesp.net/wiki/Lore:Alchemy_A\",\n",
    "    \"https://en.uesp.net/wiki/Lore:Alchemy_B\",\n",
    "    \"https://en.uesp.net/wiki/Lore:Alchemy_C\",\n",
    "    \"https://en.uesp.net/wiki/Lore:Alchemy_D\",\n",
    "    \"https://en.uesp.net/wiki/Lore:Alchemy_E\",\n",
    "    \"https://en.uesp.net/wiki/Lore:Alchemy_F\",\n",
    "    \"https://en.uesp.net/wiki/Lore:Alchemy_G\",\n",
    "    \"https://en.uesp.net/wiki/Lore:Alchemy_H\",\n",
    "    \"https://en.uesp.net/wiki/Lore:Alchemy_I\",\n",
    "    \"https://en.uesp.net/wiki/Lore:Alchemy_J\",\n",
    "    \"https://en.uesp.net/wiki/Lore:Alchemy_K\",\n",
    "    \"https://en.uesp.net/wiki/Lore:Alchemy_L\",\n",
    "    \"https://en.uesp.net/wiki/Lore:Alchemy_M\",\n",
    "    \"https://en.uesp.net/wiki/Lore:Alchemy_N\",\n",
    "    \"https://en.uesp.net/wiki/Lore:Alchemy_O\",b\n",
    "    \"https://en.uesp.net/wiki/Lore:Alchemy_P\",\n",
    "    \"https://en.uesp.net/wiki/Lore:Alchemy_R\",\n",
    "    \"https://en.uesp.net/wiki/Lore:Alchemy_S\",\n",
    "    \"https://en.uesp.net/wiki/Lore:Alchemy_T\",\n",
    "    \"https://en.uesp.net/wiki/Lore:Alchemy_U\",\n",
    "    \"https://en.uesp.net/wiki/Lore:Alchemy_V\",\n",
    "    \"https://en.uesp.net/wiki/Lore:Alchemy_W\",\n",
    "    \"https://en.uesp.net/wiki/Lore:Alchemy_Y\",\n",
    "    \"https://en.uesp.net/wiki/Lore:Alchemy_Z\"\n",
    "]\n",
    "\n",
    "for url in urls:\n",
    "    html = urllib.request.urlopen(url, context=ctx).read()\n",
    "    soup = BeautifulSoup(html, 'html.parser')\n",
    "    #tag_div = soup.find(\"div\", id =\"mw-content-text\")\n",
    "  \n",
    "    # Check if 'EffectOther' class is present in the page\n",
    "    has_effect_other = any(tag.has_attr('class') and 'EffectOther' in tag['class'] for tag in soup.find_all())\n",
    "\n",
    "    if has_effect_other:\n",
    "        tags = soup.find_all(class_=['mw-headline', 'EffectNeg', 'EffectPos', 'EffectOther'])\n",
    "    else:\n",
    "        tags = soup.find_all(class_=['mw-headline', 'EffectNeg', 'EffectPos'])\n",
    "\n",
    "    #tags = soup.find_all(class_=['mw-headline', 'EffectNeg', 'EffectPos', 'EffectOther'])\n",
    "\n",
    "    with open('alchemy_parsed.txt', 'a') as file:  # Open file in append mode\n",
    "\n",
    "        # Iterate over each tag in the list\n",
    "        for tag in tags:\n",
    "            if 'mw-headline' in tag['class']:\n",
    "                tag.string = tag.get_text() + ' NAME' # Append 'NAME' to the text content of elements with class 'mw-headline'\n",
    "                print(tag.text)\n",
    "                file.write(tag.text + '\\n')\n",
    "            if 'EffectNeg' in tag['class']:\n",
    "                stripped_text = tag.get_text().strip()\n",
    "                if stripped_text:  # Check if the stripped text is not empty (contains non-whitespace characters)\n",
    "                    tag.string = '    ' + stripped_text\n",
    "                    print(tag.text)\n",
    "                    file.write(tag.text + '\\n')\n",
    "            if 'EffectPos' in tag['class']:\n",
    "                stripped_text = tag.get_text().strip()\n",
    "                if stripped_text:  # Check if the stripped text is not empty (contains non-whitespace characters)\n",
    "                    tag.string = '    ' + stripped_text\n",
    "                    print(tag.text)\n",
    "                    file.write(tag.text + '\\n')\n",
    "            if 'EffectOther' in tag['class']:\n",
    "                stripped_text = tag.get_text().strip()\n",
    "                if stripped_text:  # Check if the stripped text is not empty (contains non-whitespace characters)\n",
    "                    tag.string = '    ' + stripped_text\n",
    "                    print(tag.text)\n",
    "                    file.write(tag.text + '\\n')"
   ]
  },
  {
   "cell_type": "markdown",
   "id": "e3db6bf9-ecb1-4ac6-91b1-fd83497fad11",
   "metadata": {
    "jp-MarkdownHeadingCollapsed": true
   },
   "source": [
    "### 2. Name Replacing\n",
    "The second script is responsible for replacing any inconsistent or misnamed effects. For example, effects such as \"Heal Health\" in one game and \"Restore Health\" in another are standardized to a unified naming convention like \"Health Restoration.\" The naming convention was designed beforehand and is used withing the script in a dectionary format."
   ]
  },
  {
   "cell_type": "markdown",
   "id": "bbaacde3-c142-483d-b4c4-38d407f5f94c",
   "metadata": {
    "jp-MarkdownHeadingCollapsed": true
   },
   "source": [
    "#### alchemy_02_replacer.py"
   ]
  },
  {
   "cell_type": "code",
   "execution_count": null,
   "id": "cf8f2ce4-9f07-44cd-8e4b-a4da7a3aa1f2",
   "metadata": {},
   "outputs": [],
   "source": [
    "# Read the input file\n",
    "with open(\"alchemy_parsed.txt\", \"r\") as fname:\n",
    "       fhand = fname.read()\n",
    "\n",
    "replacements = {\n",
    "        \"Heal Health\": \"Health Restoration\",\n",
    "        \"Restore Health\": \"Health Restoration\",\n",
    "        \"Damage Health\": \"Health Damage\",\n",
    "        \"Ravage Health\": \"Health Damage\",\n",
    "        \"Drain Health\": \"Health Damage\",\n",
    "        \"Lingering Health\": \"Lingering Health Restoration\",\n",
    "        \"Gradual Ravage Health\": \"Lingering Health Damage\",\n",
    "        \"Lingering Damage Health\": \"Lingering Health Damage\",\n",
    "        \"Fortify Health\": \"Increased Health\",\n",
    "        \"Increase Max Health\": \"Increased Health\",\n",
    "        \"Increases health\": \"Increased Health\",\n",
    "        \"Increase Health Recovery\": \"Vitality Increase\",\n",
    "        \"Vitality\": \"Vitality Increase\",\n",
    "        \"Regenerate Health\": \"Vitality Increase\",\n",
    "        \"Damage Health Regeneration\": \"Vitality Decrease\",\n",
    "        \"Defile\": \"Vitality Decrease\",\n",
    "        \"Restore Magicka\": \"Magicka Restoration\",\n",
    "        \"Damage Magicka\": \"Magicka Damage\",\n",
    "        \"Ravage Magicka\": \"Magicka Damage\",\n",
    "        \"Drain Magicka\": \"Magicka Damage\",\n",
    "        \"Lingering Damage Magicka\": \"Lingering Magicka Damage\",\n",
    "        \"Fortify Magicka\": \"Increased Magicka\",\n",
    "        \"Fortify Maximum Magicka\": \"Increased Magicka\",\n",
    "        \"Increase Max Magicka\": \"Increased Magicka\",\n",
    "        \"Increase Maximum Magicka\": \"Increased Magicka\",\n",
    "        \"Magicka Recovery\": \"Focus Increase\",\n",
    "        \"Increase Magicka Recovery\": \"Focus Increase\",\n",
    "        \"Regenerate Magicka\": \"Focus Increase\",\n",
    "        \"Damage Magicka Regen\": \"Focus Decrease\",\n",
    "        \"Damage Magicka Regeneration\": \"Focus Decrease\",\n",
    "        \"Heal Stamina\": \"Stamina Restoration\",\n",
    "        \"Restore Stamina\": \"Stamina Restoration\",\n",
    "        \"Damage Stamina\": \"Stamina Damage\",\n",
    "        \"Ravage Stamina\": \"Stamina Damage\",\n",
    "        \"Lingering Damage Stamina\": \"Lingering Stamina Damage\",\n",
    "        \"Fortify Stamina\": \"Increased Stamina\",\n",
    "        \"Increase Max Stamina\": \"Increased Stamina\",\n",
    "        \"Increase Maximum Stamina\": \"Increased Stamina\",\n",
    "        \"Restore Fatigue\": \"Fatigue Restoration\",\n",
    "        \"Damage Stamina Regen\": \"Fatigue Increase\",\n",
    "        \"Damage Stamina Regeneration\": \"Fatigue Increase\",\n",
    "        \"Damage Fatigue\": \"Fatigue Increase\",\n",
    "        \"Drain Fatigue\": \"Fatigue Increase\",\n",
    "        \"Increase Stamina Recovery\": \"Fatigue Decrease\",\n",
    "        \"Regenerate Stamina\": \"Fatigue Decrease\",\n",
    "        \"Fortify Fatigue\": \"Fatigue Capacity\",\n",
    "        \"Restore Agility\": \"Agility Restoration\",\n",
    "        \"Fortify Agility\": \"Agility Increase\",\n",
    "        \"Increase Agility\": \"Agility Increase\",\n",
    "        \"Increased Agility\": \"Agility Increase\",\n",
    "        \"Weapon Critical\": \"Agility Increase\",\n",
    "        \"Increase Lethal Strike\": \"Agility Increase\",\n",
    "        \"Fortify Acrobatics\": \"Agility Increase\",\n",
    "        \"Increased Jumping\": \"Agility Increase\",\n",
    "        \"Increase Jumping\": \"Agility Increase\",\n",
    "        \"Jumping\": \"Agility Increase\",\n",
    "        \"Fortify Attack\": \"Agility Increase\",\n",
    "        \"Reflect Damage\": \"Agility Increase\",\n",
    "        \"Fortify Light Armor\": \"Agility Increase\",\n",
    "        \"Improve Climbing\": \"Agility Increase\",\n",
    "        \"Increase disarm\": \"Agility Increase\",\n",
    "        \"Increase lock picking and disarm\": \"Agility Increase\",\n",
    "        \"Increase lock picking\": \"Agility Increase\",\n",
    "        \"Fortify Pickpocket\": \"Agility Increase\",\n",
    "        \"Fortify Lockpicking\": \"Agility Increase\",\n",
    "        \"Fortify Sneak\": \"Agility Increase\",\n",
    "        \"Damage Agility\": \"Agility Decrease\",\n",
    "        \"Damagge Agility\": \"Agility Decrease\",\n",
    "        \"Drain Agility\": \"Agility Decrease\",\n",
    "        \"Enervation\": \"Agility Decrease\",\n",
    "        \"Restore Endurance\": \"Endurance Restoration\",\n",
    "        \"Fortify Endurance\": \"Endurance Increase\",\n",
    "        \"Fortify Endurnace\": \"Endurance Increase\",\n",
    "        \"Increase Endurance\": \"Endurance Increase\",\n",
    "        \"Immunity to all special attacks\": \"Endurance Increase\",\n",
    "        \"Increase Armor\": \"Endurance Increase\",\n",
    "        \"Increase Armory\": \"Endurance Increase\",\n",
    "        \"Increase Armor Value\": \"Endurance Increase\",\n",
    "        \"Fortify Armor\": \"Endurance Increase\",\n",
    "        \"Ironskin\": \"Endurance Increase\",\n",
    "        \"Shield\": \"Endurance Increase\",\n",
    "        \"Protection\": \"Endurance Increase\",\n",
    "        \"Increase Defense\": \"Endurance Increase\",\n",
    "        \"Fortify Defense\": \"Endurance Increase\",\n",
    "        \"Damage Endurance\": \"Endurance Decrease\",\n",
    "        \"Drain Endurance\": \"Endurance Decrease\",\n",
    "        \"Vulnerability\": \"Endurance Decrease\",\n",
    "        \"Fracture\": \"Endurance Decrease\",\n",
    "        \"Restore Intelligence\": \"Intelligence Restoration\",\n",
    "        \"Add Intelligence\": \"Intelligence Increase\",\n",
    "        \"Fortify Intelligence\": \"Intelligence Increase\",\n",
    "        \"Increase Intelligence\": \"Intelligence Increase\",\n",
    "        \"Dispel Magic\": \"Intelligence Increase\",\n",
    "        \"Dispell Magic\": \"Intelligence Increase\",\n",
    "        \"Dispel\": \"Intelligence Increase\",\n",
    "        \"Increase Precise Magic\": \"Intelligence Increase\",\n",
    "        \"Spell Critical\": \"Willpower Increase\",\n",
    "        \"Increase Spell Power\": \"Intelligence Increase\",\n",
    "        \"Detect Magic\": \"Intelligence Increase\",\n",
    "        \"Detect Enchantment\": \"Intelligence Increase\",\n",
    "        \"Damage Intelligence\": \"Intelligence Decrease\",\n",
    "        \"Drain Intelligence\": \"Intelligence Decrease\",\n",
    "        \"Damage Spell Points\": \"Intelligence Decrease\",\n",
    "        \"Restore Personality\": \"Personality Restoration\",\n",
    "        \"Fortify Personality\": \"Personality Increase\",\n",
    "        \"Increase Personality\": \"Personality Increase\",\n",
    "        \"Fortify Persuasion\": \"Personality Increase\",\n",
    "        \"Fortify Barter\": \"Personality Increase\",\n",
    "        \"Damage Personality\": \"Personality Decrease\",\n",
    "        \"Drain Personality\": \"Personality Decrease\",\n",
    "        \"Restore Speed\": \"Speed Restoration\",\n",
    "        \"Fortify Speed\": \"Speed Increase\",\n",
    "        \"Increase Speed\": \"Speed Increase\",\n",
    "        \"Speed\": \"Speed Increase\",\n",
    "        \"Damage Speed\": \"Speed Decrease\",\n",
    "        \"Drain Speed\": \"Speed Decrease\",\n",
    "        \"Hindrance\": \"Speed Decrease\",\n",
    "        \"Slow\": \"Speed Decrease\",\n",
    "        \"Restore Strength\": \"Strength Restoration\",\n",
    "        \"Fortify Strength\": \"Strength Increase\",\n",
    "        \"Increase Strength\": \"Strength Increase\",\n",
    "        \"Increased Strength\": \"Strength Increase\",\n",
    "        \"Increase Weapon Power\": \"Strength Increase\",\n",
    "        \"Increase Attack\": \"Strength Increase\",\n",
    "        \"Increase Attack Damage\": \"Strength Increase\",\n",
    "        \"Increase Damage\": \"Strength Increase\",\n",
    "        \"Fortify Heavy Armor\": \"Strength Increase\",\n",
    "        \"Fortify Two-handed\": \"Strength Increase\",\n",
    "        \"Fortify One-handed\": \"Strength Increase\",\n",
    "        \"Fortify Block\": \"Strength Increase\",\n",
    "        \"Fortify Smithing\": \"Strength Increase\",\n",
    "        \"Fortify Carry Weight\": \"Strength Increase\",\n",
    "        \"Feather\": \"Strength Increase\",\n",
    "        \"Casts Mystic Might\": \"Strength Increase\",\n",
    "        \"Damage Strength\": \"Strength Decrease\",\n",
    "        \"Drain Strength\": \"Strength Decrease\",\n",
    "        \"Burden\": \"Strength Decrease\",\n",
    "        \"Maim\": \"Strength Decrease\",\n",
    "        \"Restore Willpower\": \"Willpower Restoration\",\n",
    "        \"Fortify Willpower\": \"Willpower Increase\",\n",
    "        \"Increase Willpower\": \"Willpower Increase\",\n",
    "        \"Increase Will\": \"Willpower Increase\",\n",
    "        \"Reflect\": \"Willpower Increase\",\n",
    "        \"Reflect Spell\": \"Willpower Increase\",\n",
    "        \"Spell Reflection\": \"Willpower Increase\",\n",
    "        \"Increase Magic Resistance\": \"Willpower Increase\",\n",
    "        \"Resist Magic\": \"Willpower Increase\",\n",
    "        \"Resist Magicka\": \"Willpower Increase\",\n",
    "        \"Increase Spell Resist\": \"Willpower Increase\",\n",
    "        \"Spell Resistance\": \"Willpower Increase\",\n",
    "        \"Spell Absorption\": \"Willpower Increase\",\n",
    "        \"Damage Willpower\": \"Willpower Decrease\",\n",
    "        \"Drain Willpower\": \"Willpower Decrease\",\n",
    "        \"Weakness to Magic\": \"Willpower Decrease\",\n",
    "        \"Breach\": \"Willpower Decrease\",\n",
    "        \"Uncertainty\": \"Willpower Decrease\",\n",
    "        \"Resist Disease\": \"Disease Resistance\",\n",
    "        \"Resist Common Disease\": \"Disease Resistance\",\n",
    "        \"Cure Disease\": \"Disease Cure\",\n",
    "        \"Cure Common Disease\": \"Disease Cure\",\n",
    "        \"Cure Blight Disease\": \"Blight Disease Cure\",\n",
    "        \"Felldew Effect\": \"Felldew Effect\",\n",
    "        \"Resist Poison\": \"Poison Resistance\",\n",
    "        \"Weakness to Poison\": \"Poison Vulnerability\",\n",
    "        \"Deadly Poison\": \"Poison\",\n",
    "        \"Lethal Poison\": \"Poison\",\n",
    "        \"Poison\": \"Poison\",\n",
    "        \"Cure Poison\": \"Poison Cure\",\n",
    "        \"Entrapment\": \"Paralysis\",\n",
    "        \"Paralysis\": \"Paralysis\",\n",
    "        \"Paralyze\": \"Paralysis\",\n",
    "        \"Cure Paralysis\": \"Paralysis Cure\",\n",
    "        \"Cure Paralyzation\": \"Paralysis Cure\",\n",
    "        \"Free Action\": \"Paralysis Cure\",\n",
    "        \"Resist Paralysis\": \"Paralysis Resistance\",\n",
    "        \"Unstoppable\": \"Paralysis Resistance\",\n",
    "        \"Increase Perception\": \"Perception Increase\",\n",
    "        \"Detection\": \"Perception Increase\",\n",
    "        \"Detect Treasure\": \"Perception Increase\",\n",
    "        \"Detect Life\": \"Perception Increase\",\n",
    "        \"Detect Key\": \"Perception Increase\",\n",
    "        \"Detect Enemy\": \"Perception Increase\",\n",
    "        \"Detect Animal\": \"Perception Increase\",\n",
    "        \"Fortify Marksman\": \"Perception Increase\",\n",
    "        \"Heroism\": \"Heroism\",\n",
    "        \"Fear\": \"Fear\",\n",
    "        \"Timidity\": \"Fear\",\n",
    "        \"Cowardice\": \"Fear\",\n",
    "        \"Frenzy\": \"Frenzy\",\n",
    "        \"Diminution\": \"Diminution\",\n",
    "        \"Dimunition\": \"Diminution\",\n",
    "        \"Invisible\": \"Invisibility\",\n",
    "        \"Invisibility\": \"Invisibility\",\n",
    "        \"Chameleon\": \"Chameleon\",\n",
    "        \"Resist Fire\": \"Fire Resistance\",\n",
    "        \"Fire Shield\": \"Fire Resistance\",\n",
    "        \"Weakness to Fire\": \"Fire Vulnerability\",\n",
    "        \"Fire Damage\": \"Fire Spells Enhancement\",\n",
    "        \"Resist Frost\": \"Frost Resistance\",\n",
    "        \"Resist Cold\": \"Frost Resistance\",\n",
    "        \"Frost Shield\": \"Frost Resistance\",\n",
    "        \"Weakness to Frost\": \"Frost Vulnerability\",\n",
    "        \"Frost Damage\": \"Frost Spells Enhancement\",\n",
    "        \"Resist Shock\": \"Shock Resistance\",\n",
    "        \"Shock Shield\": \"Shock Resistance\",\n",
    "        \"Lightning Shield\": \"Shock Resistance\",\n",
    "        \"Weakness to Shock\": \"Shock Vulnerability\",\n",
    "        \"Shock Damage\": \"Shock Spells Power\",\n",
    "        \"Fortify Alteration\": \"Alteration Spells Enhancement\",\n",
    "        \"Drain Alteration\": \"Alteration Spells Weakening\",\n",
    "        \"Fortify Conjuration\": \"Conjuration Spells Enhancement\",\n",
    "        \"Fortify Destruction\": \"Destruction Spells Enhancement\",\n",
    "        \"Fortify Illusion\": \"Illusion Spells Enhancement\",\n",
    "        \"Fortify Restoration\": \"Restoration Spells Enhancement\",\n",
    "        \"Fortify Enchanting\": \"Enchanting Enhancement\",\n",
    "        \"Restore Luck\": \"Luck Restoration\",\n",
    "        \"Damage Luck\": \"Luck Damage\",\n",
    "        \"Drain Luck\": \"Luck Damage\",\n",
    "        \"Increase Luck\": \"Luck Increase\",\n",
    "        \"Fortify Luck\": \"Luck Increase\",\n",
    "        \"Night-Eye\": \"Night Vision\",\n",
    "        \"Night Eye\": \"Night Vision\",\n",
    "        \"Light\": \"Light\",\n",
    "        \"Blind\": \"Blindness\",\n",
    "        \"Silence\": \"Silence\",\n",
    "        \"Waterbreathing\": \"Water Breathing\",\n",
    "        \"Water Breathing\": \"Water Breathing\",\n",
    "        \"Water Walking\": \"Water Walking\",\n",
    "        \"Swift Swim\": \"Swimming Speed\",\n",
    "        \"Improve Jumping\": \"Improved Jumping\",\n",
    "        \"Telekinesis\": \"Telekinesis\",\n",
    "        \"Recall\": \"Teleportation\",\n",
    "        \"Etherealness\": \"Etherealness\",\n",
    "        \"Slowfall\": \"Slow Fall\",\n",
    "        \"Levitate\": \"Levitation\",\n",
    "        \"Increase Potency\": \"Potency Increase\",\n",
    "        \"Charm Mortal\": \"Charming a Mortal\",\n",
    "        \"Tongues\": \"Polyglotism\",\n",
    "        \"Death\": \"Death\",\n",
    "        \"Vampirism\": \"Vampirism\",\n",
    "        \"Lycanthropy\": \"Lycanthropy\"\n",
    "        }\n",
    "\n",
    "\n",
    "# Write the effect to category mappings to a file\n",
    "with open('alchemy_replaced.txt', 'w') as file:\n",
    "       for line in fhand.split('\\n'):\n",
    "              line = line.strip()\n",
    "              if line in replacements:\n",
    "                     line = replacements[line]\n",
    "                     line = \"\\t\" + line\n",
    "              # Write the line to the file\n",
    "              file.write(line + '\\n')\n",
    "\n"
   ]
  },
  {
   "cell_type": "markdown",
   "id": "e6b7a8be-2aa9-4205-b4e0-4870b794473f",
   "metadata": {
    "jp-MarkdownHeadingCollapsed": true
   },
   "source": [
    "#### alchemy_replaced.txt"
   ]
  },
  {
   "cell_type": "markdown",
   "id": "f3a00bfa-8685-4fd4-9226-32712f0462c8",
   "metadata": {
    "jp-MarkdownHeadingCollapsed": true
   },
   "source": [
    "### 3. Cleaning\n",
    "This script further cleans the data by removing unnecessary lines and formatting the data into a more readable structure, with proper indentation for clarity and consistency."
   ]
  },
  {
   "cell_type": "markdown",
   "id": "e593c3e8-f831-4c64-b08b-46d5caaf34ac",
   "metadata": {
    "jp-MarkdownHeadingCollapsed": true
   },
   "source": [
    "#### alchemy_03_cleaner.py"
   ]
  },
  {
   "cell_type": "code",
   "execution_count": null,
   "id": "926c0f04-2cec-46ae-8eed-810bb77e6ad6",
   "metadata": {},
   "outputs": [],
   "source": [
    "import re\n",
    "\n",
    "with open('alchemy_replaced.txt', 'r') as file:\n",
    "    with open('alchemy_cleaned.txt', 'w') as output_file:  # Open a new file for writing\n",
    "    \tfor line in file:\n",
    "            if \"NAME\" not in line and not re.findall('^\\s', line):\n",
    "                line = '    ' + line\n",
    "            elif \"NAME\" in line:\n",
    "            \tline = line[:-5] + '\\n'\n",
    "            output_file.write(line)"
   ]
  },
  {
   "cell_type": "markdown",
   "id": "e8883ac1-9cfc-4de7-b762-0e42c90401e0",
   "metadata": {
    "jp-MarkdownHeadingCollapsed": true
   },
   "source": [
    "### 4. Removing Doubles\n",
    "This script removes any duplicate effects associated with a reagent, ensuring that each effect is listed only once."
   ]
  },
  {
   "cell_type": "markdown",
   "id": "ea12007c-cb59-4ef6-a999-90d688794c59",
   "metadata": {
    "jp-MarkdownHeadingCollapsed": true
   },
   "source": [
    "#### alchemy_04_doubles_remover.py"
   ]
  },
  {
   "cell_type": "code",
   "execution_count": null,
   "id": "046999c4-9e86-4dc7-9207-b861930cf137",
   "metadata": {},
   "outputs": [],
   "source": [
    "import re\n",
    "from collections import OrderedDict\n",
    "\n",
    "def clean_effects(filename):\n",
    "    reagents = OrderedDict()  # Use OrderedDict to maintain the original order of reagents\n",
    "\n",
    "    with open(filename, 'r') as file:\n",
    "        current_reagent = None\n",
    "\n",
    "        for line in file:\n",
    "            line = line.rstrip()  # remove leading/trailing whitespaces\n",
    "\n",
    "            if line != '':\n",
    "                if not re.search('^\\s', line):\n",
    "                    # line is a new reagent\n",
    "                    current_reagent = line\n",
    "                    reagents[current_reagent] = []  # Use a list to preserve the original order of effects\n",
    "                else:\n",
    "                    # line is an effect for the current reagent\n",
    "                    effect = line.strip()\n",
    "                    if effect not in reagents[current_reagent]:  # Check if the effect is already in the list\n",
    "                        reagents[current_reagent].append(effect)  # Add the effect to the list\n",
    "\n",
    "    return reagents\n",
    "\n",
    "effects = clean_effects('alchemy_cleaned.txt')\n",
    "\n",
    "# Write the effects to the new file while maintaining the original order\n",
    "with open('alchemy_doubles_removed.txt', 'w') as file:\n",
    "    for reagent, effect_list in effects.items():\n",
    "        if effect_list:  # Check if the effect list for the reagent is not empty\n",
    "            file.write(reagent + \"\\n\")\n",
    "            for effect in effect_list:\n",
    "                file.write(f\"    {effect}\\n\")\n",
    "            file.write(\"\\n\")  # Add a new line after writing the effects for each reagent"
   ]
  },
  {
   "cell_type": "markdown",
   "id": "e20adfeb-ad95-4aee-95ba-1cc7982ae710",
   "metadata": {
    "jp-MarkdownHeadingCollapsed": true
   },
   "source": [
    "#### alchemy_doubles_removed.txt"
   ]
  },
  {
   "cell_type": "markdown",
   "id": "cd09855d-68e4-4d95-bc6a-1c93978e06d1",
   "metadata": {},
   "source": [
    "## Conclusion"
   ]
  },
  {
   "cell_type": "markdown",
   "id": "ba237d52-1e03-4532-b305-432c8b2bd74b",
   "metadata": {},
   "source": [
    "This project was created with the goal of helping The Elder Scrolls role-players manage and utilize alchemy reagents in a more consistent and organized way. The unified effect names and cleaned data make it easier to work with alchemy reagents across different games in the series."
   ]
  },
  {
   "cell_type": "markdown",
   "id": "2cf6c409-f747-4941-9430-ad6058aad8b1",
   "metadata": {},
   "source": [
    "## Disclaimer"
   ]
  },
  {
   "cell_type": "markdown",
   "id": "ebba3cdf-ec2c-405b-af30-ea7df5c937a3",
   "metadata": {},
   "source": [
    "This was a one-time-use script built specifically for the structure of the UESP alchemy wiki page. It is not a general-purpose parser and was not designed to work on other datasets without modification.\n",
    "\n",
    "But feel free to use, modify, or extend this project as you see fit!"
   ]
  },
  {
   "cell_type": "markdown",
   "id": "ab133aeb-f908-4355-8c6d-193c569e564e",
   "metadata": {},
   "source": [
    "## Made By\n",
    "A self-taught developer and TES role-player passionate!"
   ]
  }
 ],
 "metadata": {
  "kernelspec": {
   "display_name": "Python 3 (ipykernel)",
   "language": "python",
   "name": "python3"
  },
  "language_info": {
   "codemirror_mode": {
    "name": "ipython",
    "version": 3
   },
   "file_extension": ".py",
   "mimetype": "text/x-python",
   "name": "python",
   "nbconvert_exporter": "python",
   "pygments_lexer": "ipython3",
   "version": "3.12.7"
  }
 },
 "nbformat": 4,
 "nbformat_minor": 5
}
